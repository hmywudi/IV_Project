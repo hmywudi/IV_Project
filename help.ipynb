{
 "cells": [
  {
   "cell_type": "code",
   "execution_count": 2,
   "metadata": {},
   "outputs": [],
   "source": [
    "import json\n",
    "import pandas as pd\n",
    "from geojson import Feature, FeatureCollection, Point\n",
    "\n",
    "df = pd.read_csv('Landmarks.csv')\n",
    "\n",
    "c = df['Co-ordinates']\n",
    "df['latitude'] = ''\n",
    "df['longitude'] = ''\n",
    "temp = []\n",
    "for i in range(c.size):\n",
    "    df['latitude'][i] = c[i].replace(\"(\",\"\").replace(\")\",\"\").split(\", \")[0]\n",
    "    df['longitude'][i] = c[i].replace(\"(\",\"\").replace(\")\",\"\").split(\", \")[1]\n",
    "df.drop(columns=['Co-ordinates'])\n",
    "\n",
    "# columns used for constructing geojson object\n",
    "features = df.apply(\n",
    "    lambda row: Feature(geometry=Point((float(row['longitude']), float(row['latitude'])))),\n",
    "    axis=1).tolist()\n",
    "\n",
    "# all the other columns used as properties\n",
    "properties = df.drop(['latitude', 'longitude'], axis=1).to_dict('records')\n",
    "\n",
    "# whole geojson object\n",
    "df.to_csv(\"1.csv\")\n",
    "feature_collection = FeatureCollection(features=features, properties=properties)\n",
    "with open('Landmarks.geojson', 'w', encoding='utf-8') as f:\n",
    "    json.dump(feature_collection, f, ensure_ascii=False)\n"
   ]
  },
  {
   "cell_type": "code",
   "execution_count": null,
   "metadata": {},
   "outputs": [],
   "source": []
  }
 ],
 "metadata": {
  "kernelspec": {
   "display_name": "Python 3.7.13 ('CV')",
   "language": "python",
   "name": "python3"
  },
  "language_info": {
   "codemirror_mode": {
    "name": "ipython",
    "version": 3
   },
   "file_extension": ".py",
   "mimetype": "text/x-python",
   "name": "python",
   "nbconvert_exporter": "python",
   "pygments_lexer": "ipython3",
   "version": "3.7.13"
  },
  "orig_nbformat": 4,
  "vscode": {
   "interpreter": {
    "hash": "a16d0df5ed5fe210fac3f089f07e6ad0d122d1de4a4d860783af704de797dba9"
   }
  }
 },
 "nbformat": 4,
 "nbformat_minor": 2
}
